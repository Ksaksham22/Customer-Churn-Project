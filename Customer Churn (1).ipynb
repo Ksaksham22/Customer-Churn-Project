{
 "cells": [
  {
   "cell_type": "code",
   "execution_count": 2,
   "id": "325fb5a0-f1c4-4787-9145-be79b108dd4e",
   "metadata": {},
   "outputs": [],
   "source": [
    "import pandas as pd\n",
    "import numpy as np\n",
    "import matplotlib as plt\n",
    "%matplotlib inline\n",
    "import seaborn as sns"
   ]
  },
  {
   "cell_type": "code",
   "execution_count": 25,
   "id": "210df4d0-c7a2-4d5c-a5f7-58c053304be3",
   "metadata": {},
   "outputs": [],
   "source": [
    "df = pd.read_csv(r'C:\\Users\\kunwa\\Downloads\\Customer Churn DATA.csv' , encoding='unicode_escape')"
   ]
  },
  {
   "cell_type": "code",
   "execution_count": 26,
   "id": "0c82d1e6-b568-4b7d-b768-be2219767259",
   "metadata": {},
   "outputs": [
    {
     "data": {
      "text/plain": [
       "(30, 11)"
      ]
     },
     "execution_count": 26,
     "metadata": {},
     "output_type": "execute_result"
    }
   ],
   "source": [
    "df.shape"
   ]
  },
  {
   "cell_type": "code",
   "execution_count": 27,
   "id": "cdecd197-49d1-499f-9917-476370fdd642",
   "metadata": {},
   "outputs": [
    {
     "data": {
      "text/html": [
       "<div>\n",
       "<style scoped>\n",
       "    .dataframe tbody tr th:only-of-type {\n",
       "        vertical-align: middle;\n",
       "    }\n",
       "\n",
       "    .dataframe tbody tr th {\n",
       "        vertical-align: top;\n",
       "    }\n",
       "\n",
       "    .dataframe thead th {\n",
       "        text-align: right;\n",
       "    }\n",
       "</style>\n",
       "<table border=\"1\" class=\"dataframe\">\n",
       "  <thead>\n",
       "    <tr style=\"text-align: right;\">\n",
       "      <th></th>\n",
       "      <th>CustomerID</th>\n",
       "      <th>Name</th>\n",
       "      <th>Gender</th>\n",
       "      <th>Age</th>\n",
       "      <th>Location</th>\n",
       "      <th>SubscriptionType</th>\n",
       "      <th>SubscriptionStartDate</th>\n",
       "      <th>SubscriptionEndDate</th>\n",
       "      <th>MonthlyUsage(MB)</th>\n",
       "      <th>ChurnStatus</th>\n",
       "      <th>Status</th>\n",
       "    </tr>\n",
       "  </thead>\n",
       "  <tbody>\n",
       "    <tr>\n",
       "      <th>0</th>\n",
       "      <td>1</td>\n",
       "      <td>John Doe</td>\n",
       "      <td>Male</td>\n",
       "      <td>32</td>\n",
       "      <td>New York</td>\n",
       "      <td>Monthly</td>\n",
       "      <td>16-12-2021</td>\n",
       "      <td>15-01-2022</td>\n",
       "      <td>1500</td>\n",
       "      <td>No</td>\n",
       "      <td>NaN</td>\n",
       "    </tr>\n",
       "    <tr>\n",
       "      <th>1</th>\n",
       "      <td>2</td>\n",
       "      <td>Jane Smith</td>\n",
       "      <td>Female</td>\n",
       "      <td>28</td>\n",
       "      <td>Los Angeles</td>\n",
       "      <td>Annual</td>\n",
       "      <td>08-02-2022</td>\n",
       "      <td>10-03-2022</td>\n",
       "      <td>2000</td>\n",
       "      <td>No</td>\n",
       "      <td>NaN</td>\n",
       "    </tr>\n",
       "    <tr>\n",
       "      <th>2</th>\n",
       "      <td>3</td>\n",
       "      <td>Michael Johnson</td>\n",
       "      <td>Male</td>\n",
       "      <td>45</td>\n",
       "      <td>Chicago</td>\n",
       "      <td>Monthly</td>\n",
       "      <td>18-02-2022</td>\n",
       "      <td>20-03-2022</td>\n",
       "      <td>1200</td>\n",
       "      <td>Yes</td>\n",
       "      <td>NaN</td>\n",
       "    </tr>\n",
       "    <tr>\n",
       "      <th>3</th>\n",
       "      <td>4</td>\n",
       "      <td>Emily Davis</td>\n",
       "      <td>Female</td>\n",
       "      <td>22</td>\n",
       "      <td>San Francisco</td>\n",
       "      <td>Monthly</td>\n",
       "      <td>05-04-2022</td>\n",
       "      <td>05-05-2022</td>\n",
       "      <td>1800</td>\n",
       "      <td>No</td>\n",
       "      <td>NaN</td>\n",
       "    </tr>\n",
       "    <tr>\n",
       "      <th>4</th>\n",
       "      <td>5</td>\n",
       "      <td>David Lee</td>\n",
       "      <td>Male</td>\n",
       "      <td>35</td>\n",
       "      <td>Houston</td>\n",
       "      <td>Annual</td>\n",
       "      <td>13-03-2023</td>\n",
       "      <td>12-04-2023</td>\n",
       "      <td>2500</td>\n",
       "      <td>No</td>\n",
       "      <td>NaN</td>\n",
       "    </tr>\n",
       "  </tbody>\n",
       "</table>\n",
       "</div>"
      ],
      "text/plain": [
       "   CustomerID             Name  Gender  Age       Location SubscriptionType  \\\n",
       "0           1         John Doe    Male   32       New York          Monthly   \n",
       "1           2       Jane Smith  Female   28    Los Angeles           Annual   \n",
       "2           3  Michael Johnson    Male   45        Chicago          Monthly   \n",
       "3           4      Emily Davis  Female   22  San Francisco          Monthly   \n",
       "4           5        David Lee    Male   35        Houston           Annual   \n",
       "\n",
       "  SubscriptionStartDate SubscriptionEndDate  MonthlyUsage(MB) ChurnStatus  \\\n",
       "0            16-12-2021          15-01-2022              1500          No   \n",
       "1            08-02-2022          10-03-2022              2000          No   \n",
       "2            18-02-2022          20-03-2022              1200         Yes   \n",
       "3            05-04-2022          05-05-2022              1800          No   \n",
       "4            13-03-2023          12-04-2023              2500          No   \n",
       "\n",
       "   Status  \n",
       "0     NaN  \n",
       "1     NaN  \n",
       "2     NaN  \n",
       "3     NaN  \n",
       "4     NaN  "
      ]
     },
     "execution_count": 27,
     "metadata": {},
     "output_type": "execute_result"
    }
   ],
   "source": [
    "df.head()"
   ]
  },
  {
   "cell_type": "code",
   "execution_count": 28,
   "id": "e6151bfd-d1ac-42c2-9a88-b3024a8aed75",
   "metadata": {},
   "outputs": [
    {
     "name": "stdout",
     "output_type": "stream",
     "text": [
      "<class 'pandas.core.frame.DataFrame'>\n",
      "RangeIndex: 30 entries, 0 to 29\n",
      "Data columns (total 11 columns):\n",
      " #   Column                 Non-Null Count  Dtype  \n",
      "---  ------                 --------------  -----  \n",
      " 0   CustomerID             30 non-null     int64  \n",
      " 1   Name                   30 non-null     object \n",
      " 2   Gender                 30 non-null     object \n",
      " 3   Age                    30 non-null     int64  \n",
      " 4   Location               30 non-null     object \n",
      " 5   SubscriptionType       30 non-null     object \n",
      " 6   SubscriptionStartDate  30 non-null     object \n",
      " 7   SubscriptionEndDate    30 non-null     object \n",
      " 8   MonthlyUsage(MB)       30 non-null     int64  \n",
      " 9   ChurnStatus            30 non-null     object \n",
      " 10  Status                 0 non-null      float64\n",
      "dtypes: float64(1), int64(3), object(7)\n",
      "memory usage: 2.7+ KB\n"
     ]
    }
   ],
   "source": [
    "df.info()        #checking for datatypes"
   ]
  },
  {
   "cell_type": "code",
   "execution_count": 32,
   "id": "e128fdd0-3065-4ea8-8867-bc1cdd612012",
   "metadata": {},
   "outputs": [],
   "source": [
    "#changing datatype\n",
    "df['SubscriptionStartDate'] = pd.to_datetime(df['SubscriptionStartDate'])\n",
    "df['SubscriptionEndDate'] = pd.to_datetime(df['SubscriptionEndDate'])"
   ]
  },
  {
   "cell_type": "code",
   "execution_count": 31,
   "id": "33e5fc12-5c86-47ba-8228-2de66eef3d6e",
   "metadata": {},
   "outputs": [
    {
     "data": {
      "text/plain": [
       "dtype('<M8[ns]')"
      ]
     },
     "execution_count": 31,
     "metadata": {},
     "output_type": "execute_result"
    }
   ],
   "source": [
    "#checking datatype changed or not\n",
    "df['SubscriptionStartDate'].dtypes"
   ]
  },
  {
   "cell_type": "code",
   "execution_count": null,
   "id": "d624232f-c9f0-4a2f-866c-8e2ebb5f8a53",
   "metadata": {},
   "outputs": [],
   "source": [
    "#drop blank/null column\n",
    "df.drop (['Status'], axis=1, inplace=True)"
   ]
  },
  {
   "cell_type": "code",
   "execution_count": null,
   "id": "9916e69d-ae95-4313-9225-e2090a9e1578",
   "metadata": {},
   "outputs": [],
   "source": [
    "#check for null values\n",
    "pd.isnull(df).sum()"
   ]
  },
  {
   "cell_type": "code",
   "execution_count": null,
   "id": "09e8165d-79fb-40e5-a73a-d9a3b6b192bf",
   "metadata": {},
   "outputs": [],
   "source": [
    "df.describe()"
   ]
  },
  {
   "cell_type": "markdown",
   "id": "0c4af537-a99b-4ce2-b674-5ba74e9efeaa",
   "metadata": {},
   "source": [
    "#### We can see as the age increases the usage of data by the customers also increses. So we can offer good deals to the elder section of the society. "
   ]
  },
  {
   "cell_type": "markdown",
   "id": "fe5746a2-4924-475b-b5d5-be85d91a16b1",
   "metadata": {},
   "source": [
    "# DATA ANALYSIS"
   ]
  },
  {
   "cell_type": "markdown",
   "id": "fe46d4e1-1082-460e-8e2e-720c79bccb83",
   "metadata": {},
   "source": [
    "## Gender"
   ]
  },
  {
   "cell_type": "code",
   "execution_count": 15,
   "id": "9d5c3006-6f6c-4746-a9ed-63ef7d8e992a",
   "metadata": {},
   "outputs": [
    {
     "name": "stderr",
     "output_type": "stream",
     "text": [
      "C:\\Users\\kunwa\\AppData\\Local\\Programs\\Python\\Python311\\Lib\\site-packages\\seaborn\\_oldcore.py:1498: FutureWarning: is_categorical_dtype is deprecated and will be removed in a future version. Use isinstance(dtype, CategoricalDtype) instead\n",
      "  if pd.api.types.is_categorical_dtype(vector):\n",
      "C:\\Users\\kunwa\\AppData\\Local\\Programs\\Python\\Python311\\Lib\\site-packages\\seaborn\\_oldcore.py:1498: FutureWarning: is_categorical_dtype is deprecated and will be removed in a future version. Use isinstance(dtype, CategoricalDtype) instead\n",
      "  if pd.api.types.is_categorical_dtype(vector):\n",
      "C:\\Users\\kunwa\\AppData\\Local\\Programs\\Python\\Python311\\Lib\\site-packages\\seaborn\\_oldcore.py:1498: FutureWarning: is_categorical_dtype is deprecated and will be removed in a future version. Use isinstance(dtype, CategoricalDtype) instead\n",
      "  if pd.api.types.is_categorical_dtype(vector):\n"
     ]
    },
    {
     "data": {
      "image/png": "[encoded data removed]",
      "text/plain": [
       "<Figure size 640x480 with 1 Axes>"
      ]
     },
     "metadata": {},
     "output_type": "display_data"
    }
   ],
   "source": [
    "gen = sns.countplot(x= 'Gender', data= df)\n",
    "\n",
    "for bars in gen.containers:\n",
    "    gen.bar_label(bars)\n"
   ]
  },
  {
   "cell_type": "code",
   "execution_count": 32,
   "id": "4de5cfd2-ac78-42b9-9a7a-ff54475c8bba",
   "metadata": {},
   "outputs": [
    {
     "name": "stderr",
     "output_type": "stream",
     "text": [
      "C:\\Users\\kunwa\\AppData\\Local\\Programs\\Python\\Python311\\Lib\\site-packages\\seaborn\\_oldcore.py:1498: FutureWarning: is_categorical_dtype is deprecated and will be removed in a future version. Use isinstance(dtype, CategoricalDtype) instead\n",
      "  if pd.api.types.is_categorical_dtype(vector):\n",
      "C:\\Users\\kunwa\\AppData\\Local\\Programs\\Python\\Python311\\Lib\\site-packages\\seaborn\\_oldcore.py:1498: FutureWarning: is_categorical_dtype is deprecated and will be removed in a future version. Use isinstance(dtype, CategoricalDtype) instead\n",
      "  if pd.api.types.is_categorical_dtype(vector):\n",
      "C:\\Users\\kunwa\\AppData\\Local\\Programs\\Python\\Python311\\Lib\\site-packages\\seaborn\\_oldcore.py:1498: FutureWarning: is_categorical_dtype is deprecated and will be removed in a future version. Use isinstance(dtype, CategoricalDtype) instead\n",
      "  if pd.api.types.is_categorical_dtype(vector):\n"
     ]
    },
    {
     "data": {
      "text/plain": [
       "<Axes: xlabel='Gender', ylabel='MonthlyUsage(MB)'>"
      ]
     },
     "execution_count": 32,
     "metadata": {},
     "output_type": "execute_result"
    },
    {
     "data": {
      "image/png": "[encoded data removed]",
      "text/plain": [
       "<Figure size 640x480 with 1 Axes>"
      ]
     },
     "metadata": {},
     "output_type": "display_data"
    }
   ],
   "source": [
    "data_gen= df.groupby(['Gender'], as_index=False) ['MonthlyUsage(MB)'].sum().sort_values(by= 'MonthlyUsage(MB)', ascending=False)\n",
    "\n",
    "sns.barplot (x= 'Gender', y= 'MonthlyUsage(MB)', data=data_gen)"
   ]
  },
  {
   "cell_type": "markdown",
   "id": "1d8919df-23b9-40be-b82c-b488674d964c",
   "metadata": {},
   "source": [
    "#### From above graphs we can see that Male subscribers are more as compared to female subscribers and also data uage of male subscribers are more"
   ]
  },
  {
   "cell_type": "markdown",
   "id": "b463b685-0d93-4dc9-a267-d641e61bc1cf",
   "metadata": {},
   "source": [
    "## Age"
   ]
  },
  {
   "cell_type": "code",
   "execution_count": 35,
   "id": "165cc067-c7f8-42fe-bb7f-da3e6090e5cd",
   "metadata": {},
   "outputs": [
    {
     "name": "stdout",
     "output_type": "stream",
     "text": [
      "Minimun Age: 22\n"
     ]
    }
   ],
   "source": [
    "min_age= df['Age'].min()\n",
    "print(\"Minimun Age:\",min_age)"
   ]
  },
  {
   "cell_type": "code",
   "execution_count": 36,
   "id": "fa2fd693-d658-40f2-b3f5-71e92f604c8e",
   "metadata": {},
   "outputs": [
    {
     "name": "stdout",
     "output_type": "stream",
     "text": [
      "Miximum Age: 45\n"
     ]
    }
   ],
   "source": [
    "max_age= df['Age'].max()\n",
    "print(\"Miximum Age:\",max_age)"
   ]
  },
  {
   "cell_type": "code",
   "execution_count": 37,
   "id": "d797f6ca-212a-4cc9-9177-e3901ad8b2e1",
   "metadata": {},
   "outputs": [
    {
     "name": "stdout",
     "output_type": "stream",
     "text": [
      "Average Age: 31.166666666666668\n"
     ]
    }
   ],
   "source": [
    "avg_age= df['Age'].mean()\n",
    "print(\"Average Age:\",avg_age)"
   ]
  },
  {
   "cell_type": "markdown",
   "id": "cd00a4dd-4c64-4147-b777-63bd5058e240",
   "metadata": {},
   "source": [
    "#### From above codes we can see that the average age group people who are subscribing are of 31 years of age and all the users are from the age group of 22-45 years of age."
   ]
  },
  {
   "cell_type": "markdown",
   "id": "d20e37b0-057f-4836-b990-6fe753ce60d3",
   "metadata": {},
   "source": [
    "## Location"
   ]
  },
  {
   "cell_type": "code",
   "execution_count": 54,
   "id": "b3544346-b4ff-4e57-98fc-b870ef38ad32",
   "metadata": {},
   "outputs": [
    {
     "name": "stderr",
     "output_type": "stream",
     "text": [
      "C:\\Users\\kunwa\\AppData\\Local\\Programs\\Python\\Python311\\Lib\\site-packages\\seaborn\\_oldcore.py:1498: FutureWarning: is_categorical_dtype is deprecated and will be removed in a future version. Use isinstance(dtype, CategoricalDtype) instead\n",
      "  if pd.api.types.is_categorical_dtype(vector):\n",
      "C:\\Users\\kunwa\\AppData\\Local\\Programs\\Python\\Python311\\Lib\\site-packages\\seaborn\\_oldcore.py:1498: FutureWarning: is_categorical_dtype is deprecated and will be removed in a future version. Use isinstance(dtype, CategoricalDtype) instead\n",
      "  if pd.api.types.is_categorical_dtype(vector):\n",
      "C:\\Users\\kunwa\\AppData\\Local\\Programs\\Python\\Python311\\Lib\\site-packages\\seaborn\\_oldcore.py:1498: FutureWarning: is_categorical_dtype is deprecated and will be removed in a future version. Use isinstance(dtype, CategoricalDtype) instead\n",
      "  if pd.api.types.is_categorical_dtype(vector):\n"
     ]
    },
    {
     "data": {
      "text/plain": [
       "[Text(0, 0, 'New York'),\n",
       " Text(1, 0, 'Los Angeles'),\n",
       " Text(2, 0, 'Chicago'),\n",
       " Text(3, 0, 'San Francisco'),\n",
       " Text(4, 0, 'Houston'),\n",
       " Text(5, 0, 'Miami'),\n",
       " Text(6, 0, 'Denver'),\n",
       " Text(7, 0, 'Seattle'),\n",
       " Text(8, 0, 'Boston'),\n",
       " Text(9, 0, 'Philadelphia'),\n",
       " Text(10, 0, 'Dallas'),\n",
       " Text(11, 0, 'Phoenix'),\n",
       " Text(12, 0, 'Atlanta'),\n",
       " Text(13, 0, 'San Diego')]"
      ]
     },
     "execution_count": 54,
     "metadata": {},
     "output_type": "execute_result"
    },
    {
     "data": {
      "image/png": "[encoded data removed]",
      "text/plain": [
       "<Figure size 640x480 with 1 Axes>"
      ]
     },
     "metadata": {},
     "output_type": "display_data"
    }
   ],
   "source": [
    "lct= sns.countplot(data= df, x='Location')\n",
    "lct.set_xticklabels(lct.get_xticklabels(), rotation=45)"
   ]
  },
  {
   "cell_type": "markdown",
   "id": "040cf44f-8947-4b7a-a930-1ebbd1e7db2c",
   "metadata": {},
   "source": [
    "#### From above graph we can see that most of the subscribers are from Los Angeles,Denver and Seattle."
   ]
  },
  {
   "cell_type": "markdown",
   "id": "a8b80fa1-51ff-4150-a0e7-8aad78fbb84e",
   "metadata": {},
   "source": [
    "## Subscription Analysis"
   ]
  },
  {
   "cell_type": "code",
   "execution_count": 55,
   "id": "5f6260ab-b879-4f36-9d18-166fd59f8435",
   "metadata": {},
   "outputs": [
    {
     "name": "stderr",
     "output_type": "stream",
     "text": [
      "C:\\Users\\kunwa\\AppData\\Local\\Programs\\Python\\Python311\\Lib\\site-packages\\seaborn\\_oldcore.py:1498: FutureWarning: is_categorical_dtype is deprecated and will be removed in a future version. Use isinstance(dtype, CategoricalDtype) instead\n",
      "  if pd.api.types.is_categorical_dtype(vector):\n",
      "C:\\Users\\kunwa\\AppData\\Local\\Programs\\Python\\Python311\\Lib\\site-packages\\seaborn\\_oldcore.py:1498: FutureWarning: is_categorical_dtype is deprecated and will be removed in a future version. Use isinstance(dtype, CategoricalDtype) instead\n",
      "  if pd.api.types.is_categorical_dtype(vector):\n",
      "C:\\Users\\kunwa\\AppData\\Local\\Programs\\Python\\Python311\\Lib\\site-packages\\seaborn\\_oldcore.py:1498: FutureWarning: is_categorical_dtype is deprecated and will be removed in a future version. Use isinstance(dtype, CategoricalDtype) instead\n",
      "  if pd.api.types.is_categorical_dtype(vector):\n"
     ]
    },
    {
     "data": {
      "image/png": "[encoded data removed]",
      "text/plain": [
       "<Figure size 640x480 with 1 Axes>"
      ]
     },
     "metadata": {},
     "output_type": "display_data"
    }
   ],
   "source": [
    "sub = sns.countplot(x= 'SubscriptionType', data= df)\n",
    "\n",
    "for bars in sub.containers:\n",
    "    sub.bar_label(bars)"
   ]
  },
  {
   "cell_type": "markdown",
   "id": "a58e33d8-3edf-4aa3-ac31-ef3d64e465d2",
   "metadata": {},
   "source": [
    "#### From the above graph we can see that Monthly subscribers are far more as compared to Annual subscribers "
   ]
  },
  {
   "cell_type": "markdown",
   "id": "f595295e-fff0-4d1e-8a53-314b8d6db2db",
   "metadata": {},
   "source": [
    "## Data Usage"
   ]
  },
  {
   "cell_type": "code",
   "execution_count": 65,
   "id": "85317a7b-3fc9-4269-a334-e8ad49ea676a",
   "metadata": {},
   "outputs": [
    {
     "name": "stdout",
     "output_type": "stream",
     "text": [
      "Minimun Usage: 1100 MB\n"
     ]
    }
   ],
   "source": [
    "min_usage= df['MonthlyUsage(MB)'].min()\n",
    "print(\"Minimun Usage:\",min_usage,\"MB\")"
   ]
  },
  {
   "cell_type": "code",
   "execution_count": 68,
   "id": "855031e0-18fa-4f5d-a2d0-5f0733b271d3",
   "metadata": {},
   "outputs": [
    {
     "name": "stdout",
     "output_type": "stream",
     "text": [
      "Maximum Usage: 2500 MB\n"
     ]
    }
   ],
   "source": [
    "max_usage= df['MonthlyUsage(MB)'].max()\n",
    "print(\"Maximum Usage:\",max_usage,\"MB\")"
   ]
  },
  {
   "cell_type": "code",
   "execution_count": 70,
   "id": "2d839c01-3673-4c2f-b332-07d95aa95ae6",
   "metadata": {},
   "outputs": [
    {
     "name": "stdout",
     "output_type": "stream",
     "text": [
      "Average Usage: 1793.3333333333333 MB\n"
     ]
    }
   ],
   "source": [
    "avg_usage= df['MonthlyUsage(MB)'].mean()\n",
    "print(\"Average Usage:\",avg_usage,\"MB\")"
   ]
  },
  {
   "cell_type": "markdown",
   "id": "13c9519d-e850-4d9b-9fb7-dc07ae8a3d48",
   "metadata": {},
   "source": [
    "#### From above codes we can see that the average data usage of the customers is 1793 MB"
   ]
  },
  {
   "cell_type": "markdown",
   "id": "675de79a-0d96-48e6-8a0f-14c4b51ca000",
   "metadata": {},
   "source": [
    "## Conclusion"
   ]
  },
  {
   "cell_type": "markdown",
   "id": "74b4a3c3-51fe-44e8-b3a4-2d982aa64936",
   "metadata": {},
   "source": [
    "Male subscribers are more in number and also in terms of data usage having average age of 31 years and varies from 22-45 years of age. Most subscribers have subscribed on monthly basis are from Los Angeles,Denver and Seattle and also their average data usage is 1793 MB."
   ]
  }
 ],
 "metadata": {
  "kernelspec": {
   "display_name": "Python 3 (ipykernel)",
   "language": "python",
   "name": "python3"
  },
  "language_info": {
   "codemirror_mode": {
    "name": "ipython",
    "version": 3
   },
   "file_extension": ".py",
   "mimetype": "text/x-python",
   "name": "python",
   "nbconvert_exporter": "python",
   "pygments_lexer": "ipython3",
   "version": "3.11.5"
  }
 },
 "nbformat": 4,
 "nbformat_minor": 5
}
